{
 "cells": [
  {
   "cell_type": "code",
   "execution_count": 1,
   "metadata": {},
   "outputs": [],
   "source": [
    "from sentence import words_sentence, phonemes_sentence, sentence"
   ]
  },
  {
   "cell_type": "code",
   "execution_count": 2,
   "metadata": {},
   "outputs": [
    {
     "name": "stdout",
     "output_type": "stream",
     "text": [
      "['Go', 'to', 'Living', 'Room', 'next', 'find', 'cigarette', 'take', 'it']\n"
     ]
    }
   ],
   "source": [
    "ws = words_sentence(\"Go to Living_Room next find cigarette take it .\")\n",
    "print(ws.words)"
   ]
  },
  {
   "cell_type": "code",
   "execution_count": 3,
   "metadata": {},
   "outputs": [
    {
     "name": "stdout",
     "output_type": "stream",
     "text": [
      "['G', 'OW1', 'T', 'UW1', 'L', 'IH1', 'V', 'IH0', 'NG', 'R', 'UW1', 'M', 'N', 'EH1', 'K', 'S', 'T', 'F', 'AY1', 'N', 'D', 'S', 'IH2', 'G', 'ER0', 'EH1', 'T', 'T', 'EY1', 'K', 'IH1', 'T']\n",
      "False\n"
     ]
    }
   ],
   "source": [
    "ps = phonemes_sentence(ws.words)\n",
    "print(ps.phonemes)\n",
    "print(ps.noise)"
   ]
  },
  {
   "cell_type": "code",
   "execution_count": 4,
   "metadata": {},
   "outputs": [
    {
     "name": "stdout",
     "output_type": "stream",
     "text": [
      "['G', 'OW1', 'T', 'K', 'L', 'IH2', 'EY2', 'AH0', 'V', 'IH0', 'NG', 'AY2', 'AY2', 'M', 'N', 'P', 'K', 'S', 'T', 'F', 'AY1', 'D', 'S', 'IH2', 'G', 'EH1', 'T', 'ER', 'K', 'EH2', 'K', 'AE1', 'AE0', 'T']\n",
      "True\n"
     ]
    }
   ],
   "source": [
    "ps.inject_noise(0.1)\n",
    "print(ps.phonemes)\n",
    "print(ps.noise)"
   ]
  },
  {
   "cell_type": "code",
   "execution_count": 7,
   "metadata": {},
   "outputs": [
    {
     "name": "stdout",
     "output_type": "stream",
     "text": [
      "['Go', 'to', 'Living', 'Room', 'next', 'find', 'cigarette', 'take', 'it']\n",
      "['G', 'OW1', 'T', 'UW1', 'L', 'IH1', 'V', 'IH0', 'NG', 'R', 'UW1', 'M', 'N', 'EH1', 'K', 'S', 'T', 'F', 'AY1', 'N', 'D', 'S', 'IH2', 'G', 'ER0', 'EH1', 'T', 'T', 'EY1', 'K', 'IH1', 'T']\n",
      "False\n",
      "['G', 'OW1', 'T', 'F', 'OW1', 'IH1', 'V', 'IH0', 'NG', 'AO', 'R', 'M', 'N', 'EH1', 'K', 'EY1', 'S', 'T', 'F', 'AY1', 'N', 'D', 'S', 'AW', 'IH2', 'G', 'ER0', 'EH2', 'EH1', 'T', 'IH', 'EY1', 'K', 'IH1', 'T']\n",
      "True\n"
     ]
    }
   ],
   "source": [
    "s = sentence(\"Go to Living_Room next find cigarette take it .\",0.05)\n",
    "print(s.words_sentence.words)\n",
    "print(s.phonemes_sentence.phonemes)\n",
    "print(s.phonemes_sentence.noise)\n",
    "print(s.edited_phonemes_sentence.phonemes)\n",
    "print(s.edited_phonemes_sentence.noise)"
   ]
  }
 ],
 "metadata": {
  "kernelspec": {
   "display_name": "Python 3.10.4 ('seq2seq-NI')",
   "language": "python",
   "name": "python3"
  },
  "language_info": {
   "codemirror_mode": {
    "name": "ipython",
    "version": 3
   },
   "file_extension": ".py",
   "mimetype": "text/x-python",
   "name": "python",
   "nbconvert_exporter": "python",
   "pygments_lexer": "ipython3",
   "version": "3.10.4"
  },
  "orig_nbformat": 4,
  "vscode": {
   "interpreter": {
    "hash": "552f9050ca5d46f9046e3a1cdfcde4485843c3260b870ede6238bc615e63cf77"
   }
  }
 },
 "nbformat": 4,
 "nbformat_minor": 2
}
